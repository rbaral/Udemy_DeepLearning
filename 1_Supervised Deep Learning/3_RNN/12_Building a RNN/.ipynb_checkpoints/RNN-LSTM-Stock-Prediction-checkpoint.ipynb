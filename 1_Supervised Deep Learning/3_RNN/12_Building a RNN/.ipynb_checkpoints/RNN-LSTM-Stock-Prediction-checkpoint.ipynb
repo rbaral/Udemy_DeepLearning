{
 "cells": [
  {
   "cell_type": "markdown",
   "metadata": {},
   "source": [
    "<b> Implementation of RNN for Stock Price Prediction</b>\n",
    "\n",
    "In this notebook, we implement a simple LSTM-based neural network that will be used to predict the Stock Price of a company.\n",
    "\n",
    "We will be using Keras NN libraryh to implement the LSTM, pandas framework to read the dataset, numpy to do some data manipulation, and matplotlib to plot the prediction."
   ]
  },
  {
   "cell_type": "code",
   "execution_count": 13,
   "metadata": {
    "collapsed": true
   },
   "outputs": [],
   "source": [
    "# Importing the libraries\n",
    "import numpy as np\n",
    "import matplotlib.pyplot as plt\n",
    "import pandas as pd"
   ]
  },
  {
   "cell_type": "markdown",
   "metadata": {},
   "source": [
    "Lets use pandas library to read the csv file. The column that we want to use as our data is in the first column, so we use that particular column as our training data."
   ]
  },
  {
   "cell_type": "code",
   "execution_count": 14,
   "metadata": {},
   "outputs": [
    {
     "name": "stdout",
     "output_type": "stream",
     "text": [
      "(1258, 1)\n"
     ]
    }
   ],
   "source": [
    "# Importing the training set\n",
    "training_set = pd.read_csv('Google_Stock_Price_Train.csv')\n",
    "training_set = training_set.iloc[:,1:2].values\n",
    "print(training_set.shape)"
   ]
  },
  {
   "cell_type": "markdown",
   "metadata": {},
   "source": [
    "<b> Feature Scaling </b>\n",
    "\n",
    "We can either use Standardisation (X_stand = (x - mean(x))/(standard deviation(x))\n",
    "\n",
    "or Normalization (x_norm = (x - min(x))/(max(x) - min(x))\n",
    "\n",
    "\n",
    "We would like to normalize the stock price for easier processing. We use MinMax Normalization provided by sklearn. The normalization will transform the original stock price into a value in the range (0,1). We can later get back the actual value by inverse transformation."
   ]
  },
  {
   "cell_type": "code",
   "execution_count": 15,
   "metadata": {
    "collapsed": true
   },
   "outputs": [],
   "source": [
    "# Feature Scaling\n",
    "from sklearn.preprocessing import MinMaxScaler\n",
    "sc = MinMaxScaler()\n",
    "training_set = sc.fit_transform(training_set)"
   ]
  },
  {
   "cell_type": "markdown",
   "metadata": {},
   "source": [
    "As we are predicting the next day stock price based on the previous day's stock price, we use the price at time t as the training data and the price at time t+1 as the label for the price at time t.\n",
    "We split our training data in a way that every price (except the first one) has the succeeding price as its label."
   ]
  },
  {
   "cell_type": "code",
   "execution_count": 16,
   "metadata": {
    "collapsed": true
   },
   "outputs": [],
   "source": [
    "# Getting the inputs and the ouputs\n",
    "X_train = training_set[0:1257]\n",
    "y_train = training_set[1:1258]"
   ]
  },
  {
   "cell_type": "markdown",
   "metadata": {},
   "source": [
    "<b> Reshaping </b>\n",
    "\n",
    "We will be adding one dimension for the timestamp, so we are going to create the 3-D dataset from the 2-D training set.\n",
    "Also from the Keras library, we can see that the first dimension is the no. of batches (no. of instances), second dimension is the time interval (which is 1 day in our case, so this value is 1), and the third dimension is the no. of input features (as we have only one feature, i.e. the stock price, this is also 1 in our case).\n",
    "\n",
    "As we have 1257 observations, this will be our first dimension, the time is 1 day, so the second dimension is 1, and the number of features is 1, so the third dimension is 1."
   ]
  },
  {
   "cell_type": "code",
   "execution_count": 17,
   "metadata": {
    "collapsed": true
   },
   "outputs": [],
   "source": [
    "# Reshaping\n",
    "X_train = np.reshape(X_train, (1257, 1, 1))"
   ]
  },
  {
   "cell_type": "markdown",
   "metadata": {},
   "source": [
    "<b> Library Imports</b>\n",
    "\n",
    "We use Keras library for our network. The Sequential class is for the RNN, the Dense class is for the output layer, and the LSTM class is for LSTM network that we are going to use."
   ]
  },
  {
   "cell_type": "code",
   "execution_count": 18,
   "metadata": {},
   "outputs": [
    {
     "name": "stderr",
     "output_type": "stream",
     "text": [
      "Using TensorFlow backend.\n"
     ]
    }
   ],
   "source": [
    "# Importing the Keras libraries and packages\n",
    "from keras.models import Sequential\n",
    "from keras.layers import Dense\n",
    "from keras.layers import LSTM"
   ]
  },
  {
   "cell_type": "markdown",
   "metadata": {},
   "source": [
    "As we are going to predict a continuous value, this is a kind of regression task. We just name the object \"regressor\" for the sake of making it relevance to the task."
   ]
  },
  {
   "cell_type": "code",
   "execution_count": 19,
   "metadata": {},
   "outputs": [],
   "source": [
    "# Initialising the RNN\n",
    "regressor = Sequential()"
   ]
  },
  {
   "cell_type": "markdown",
   "metadata": {},
   "source": [
    "We add the LSTM layer to our network. The activation function is 'sigmoid' in this case because it was found to give better result rather than the 'tanh'. The input_shape indicates the features that we wanna feed to our network. As we have only one feature, the input_shape is (None, 1), where 'None' indicates we are open to accept any timestamp value, and 1 indicates we are dealing with one feature."
   ]
  },
  {
   "cell_type": "code",
   "execution_count": 20,
   "metadata": {
    "collapsed": true
   },
   "outputs": [],
   "source": [
    "# Adding the input layer and the LSTM layer\n",
    "regressor.add(LSTM(units = 4, activation = 'sigmoid', input_shape = (None, 1)))"
   ]
  },
  {
   "cell_type": "markdown",
   "metadata": {},
   "source": [
    "<b> Output Layer </b>\n",
    "\n",
    "We add our basic output layer. This can be simply achieved by adding the Dense class in our regressor object. The dimension of output layer is 1 because we just predict the stock price which is a single value."
   ]
  },
  {
   "cell_type": "code",
   "execution_count": 21,
   "metadata": {
    "collapsed": true
   },
   "outputs": [],
   "source": [
    "# Adding the output layer\n",
    "regressor.add(Dense(units = 1))"
   ]
  },
  {
   "cell_type": "markdown",
   "metadata": {},
   "source": [
    "<b> Compiling network </b>\n",
    "\n",
    "As the rmsporp optimizer takes more memory, we select adam optimizer here. As we are doing regression instead of classification, we use the mean_squared_error as our loss function."
   ]
  },
  {
   "cell_type": "code",
   "execution_count": 22,
   "metadata": {
    "collapsed": true
   },
   "outputs": [],
   "source": [
    "# Compiling the RNN\n",
    "regressor.compile(optimizer = 'adam', loss = 'mean_squared_error')"
   ]
  },
  {
   "cell_type": "markdown",
   "metadata": {},
   "source": [
    "<b> Fitting the data to model </b>"
   ]
  },
  {
   "cell_type": "code",
   "execution_count": 23,
   "metadata": {},
   "outputs": [
    {
     "name": "stdout",
     "output_type": "stream",
     "text": [
      "Epoch 1/200\n",
      "1257/1257 [==============================] - 1s - loss: 0.4000     \n",
      "Epoch 2/200\n",
      "1257/1257 [==============================] - 0s - loss: 0.2954     \n",
      "Epoch 3/200\n",
      "1257/1257 [==============================] - 0s - loss: 0.2180     \n",
      "Epoch 4/200\n",
      "1257/1257 [==============================] - 0s - loss: 0.1628     \n",
      "Epoch 5/200\n",
      "1257/1257 [==============================] - 0s - loss: 0.1245     \n",
      "Epoch 6/200\n",
      "1257/1257 [==============================] - 0s - loss: 0.0993     \n",
      "Epoch 7/200\n",
      "1257/1257 [==============================] - 0s - loss: 0.0833     \n",
      "Epoch 8/200\n",
      "1257/1257 [==============================] - 0s - loss: 0.0737     \n",
      "Epoch 9/200\n",
      "1257/1257 [==============================] - 0s - loss: 0.0684     \n",
      "Epoch 10/200\n",
      "1257/1257 [==============================] - 0s - loss: 0.0652     \n",
      "Epoch 11/200\n",
      "1257/1257 [==============================] - 0s - loss: 0.0632     \n",
      "Epoch 12/200\n",
      "1257/1257 [==============================] - 0s - loss: 0.0619     \n",
      "Epoch 13/200\n",
      "1257/1257 [==============================] - 0s - loss: 0.0609     \n",
      "Epoch 14/200\n",
      "1257/1257 [==============================] - 0s - loss: 0.0599     \n",
      "Epoch 15/200\n",
      "1257/1257 [==============================] - 0s - loss: 0.0589     \n",
      "Epoch 16/200\n",
      "1257/1257 [==============================] - 0s - loss: 0.0579     \n",
      "Epoch 17/200\n",
      "1257/1257 [==============================] - 0s - loss: 0.0569     \n",
      "Epoch 18/200\n",
      "1257/1257 [==============================] - 0s - loss: 0.0559     \n",
      "Epoch 19/200\n",
      "1257/1257 [==============================] - 0s - loss: 0.0549     \n",
      "Epoch 20/200\n",
      "1257/1257 [==============================] - 0s - loss: 0.0538     \n",
      "Epoch 21/200\n",
      "1257/1257 [==============================] - 0s - loss: 0.0527     \n",
      "Epoch 22/200\n",
      "1257/1257 [==============================] - 0s - loss: 0.0516     \n",
      "Epoch 23/200\n",
      "1257/1257 [==============================] - 0s - loss: 0.0505     \n",
      "Epoch 24/200\n",
      "1257/1257 [==============================] - 0s - loss: 0.0493     \n",
      "Epoch 25/200\n",
      "1257/1257 [==============================] - 0s - loss: 0.0481     \n",
      "Epoch 26/200\n",
      "1257/1257 [==============================] - 0s - loss: 0.0469     \n",
      "Epoch 27/200\n",
      "1257/1257 [==============================] - 0s - loss: 0.0456     \n",
      "Epoch 28/200\n",
      "1257/1257 [==============================] - 0s - loss: 0.0443     \n",
      "Epoch 29/200\n",
      "1257/1257 [==============================] - 0s - loss: 0.0431     \n",
      "Epoch 30/200\n",
      "1257/1257 [==============================] - 0s - loss: 0.0418     \n",
      "Epoch 31/200\n",
      "1257/1257 [==============================] - 0s - loss: 0.0404     \n",
      "Epoch 32/200\n",
      "1257/1257 [==============================] - 0s - loss: 0.0391     \n",
      "Epoch 33/200\n",
      "1257/1257 [==============================] - 0s - loss: 0.0377     \n",
      "Epoch 34/200\n",
      "1257/1257 [==============================] - 0s - loss: 0.0363     \n",
      "Epoch 35/200\n",
      "1257/1257 [==============================] - 0s - loss: 0.0349     \n",
      "Epoch 36/200\n",
      "1257/1257 [==============================] - 0s - loss: 0.0335     \n",
      "Epoch 37/200\n",
      "1257/1257 [==============================] - 0s - loss: 0.0322     \n",
      "Epoch 38/200\n",
      "1257/1257 [==============================] - 0s - loss: 0.0307     \n",
      "Epoch 39/200\n",
      "1257/1257 [==============================] - 0s - loss: 0.0293     \n",
      "Epoch 40/200\n",
      "1257/1257 [==============================] - 0s - loss: 0.0279     \n",
      "Epoch 41/200\n",
      "1257/1257 [==============================] - 0s - loss: 0.0265     \n",
      "Epoch 42/200\n",
      "1257/1257 [==============================] - 0s - loss: 0.0251     \n",
      "Epoch 43/200\n",
      "1257/1257 [==============================] - 0s - loss: 0.0237     \n",
      "Epoch 44/200\n",
      "1257/1257 [==============================] - 0s - loss: 0.0223     \n",
      "Epoch 45/200\n",
      "1257/1257 [==============================] - 0s - loss: 0.0210     \n",
      "Epoch 46/200\n",
      "1257/1257 [==============================] - 0s - loss: 0.0197     \n",
      "Epoch 47/200\n",
      "1257/1257 [==============================] - 0s - loss: 0.0184     \n",
      "Epoch 48/200\n",
      "1257/1257 [==============================] - 0s - loss: 0.0171     \n",
      "Epoch 49/200\n",
      "1257/1257 [==============================] - 0s - loss: 0.0159     \n",
      "Epoch 50/200\n",
      "1257/1257 [==============================] - 0s - loss: 0.0147     \n",
      "Epoch 51/200\n",
      "1257/1257 [==============================] - 0s - loss: 0.0136     \n",
      "Epoch 52/200\n",
      "1257/1257 [==============================] - 0s - loss: 0.0125     \n",
      "Epoch 53/200\n",
      "1257/1257 [==============================] - 0s - loss: 0.0114     \n",
      "Epoch 54/200\n",
      "1257/1257 [==============================] - 0s - loss: 0.0104     \n",
      "Epoch 55/200\n",
      "1257/1257 [==============================] - 0s - loss: 0.0095     \n",
      "Epoch 56/200\n",
      "1257/1257 [==============================] - 0s - loss: 0.0086     \n",
      "Epoch 57/200\n",
      "1257/1257 [==============================] - 0s - loss: 0.0077     \n",
      "Epoch 58/200\n",
      "1257/1257 [==============================] - 0s - loss: 0.0069     \n",
      "Epoch 59/200\n",
      "1257/1257 [==============================] - 0s - loss: 0.0062     \n",
      "Epoch 60/200\n",
      "1257/1257 [==============================] - 0s - loss: 0.0055     \n",
      "Epoch 61/200\n",
      "1257/1257 [==============================] - 0s - loss: 0.0049     \n",
      "Epoch 62/200\n",
      "1257/1257 [==============================] - 0s - loss: 0.0043     \n",
      "Epoch 63/200\n",
      "1257/1257 [==============================] - 0s - loss: 0.0038     \n",
      "Epoch 64/200\n",
      "1257/1257 [==============================] - 0s - loss: 0.0033     \n",
      "Epoch 65/200\n",
      "1257/1257 [==============================] - 0s - loss: 0.0029     \n",
      "Epoch 66/200\n",
      "1257/1257 [==============================] - 0s - loss: 0.0025     \n",
      "Epoch 67/200\n",
      "1257/1257 [==============================] - 0s - loss: 0.0022     \n",
      "Epoch 68/200\n",
      "1257/1257 [==============================] - 0s - loss: 0.0019     \n",
      "Epoch 69/200\n",
      "1257/1257 [==============================] - 0s - loss: 0.0016     \n",
      "Epoch 70/200\n",
      "1257/1257 [==============================] - 0s - loss: 0.0014     \n",
      "Epoch 71/200\n",
      "1257/1257 [==============================] - 0s - loss: 0.0012     \n",
      "Epoch 72/200\n",
      "1257/1257 [==============================] - 0s - loss: 0.0010     \n",
      "Epoch 73/200\n",
      "1257/1257 [==============================] - 0s - loss: 8.9554e-04     \n",
      "Epoch 74/200\n",
      "1257/1257 [==============================] - 0s - loss: 7.7716e-04     \n",
      "Epoch 75/200\n",
      "1257/1257 [==============================] - 0s - loss: 6.7870e-04     \n",
      "Epoch 76/200\n",
      "1257/1257 [==============================] - 0s - loss: 5.9786e-04     \n",
      "Epoch 77/200\n",
      "1257/1257 [==============================] - 0s - loss: 5.3007e-04     \n",
      "Epoch 78/200\n",
      "1257/1257 [==============================] - 0s - loss: 4.7510e-04     \n",
      "Epoch 79/200\n",
      "1257/1257 [==============================] - 0s - loss: 4.2950e-04     \n",
      "Epoch 80/200\n",
      "1257/1257 [==============================] - 0s - loss: 3.9316e-04     \n",
      "Epoch 81/200\n",
      "1257/1257 [==============================] - 0s - loss: 3.6366e-04     \n",
      "Epoch 82/200\n",
      "1257/1257 [==============================] - 0s - loss: 3.4040e-04     \n",
      "Epoch 83/200\n",
      "1257/1257 [==============================] - 0s - loss: 3.2221e-04     \n",
      "Epoch 84/200\n",
      "1257/1257 [==============================] - 0s - loss: 3.0762e-04     \n",
      "Epoch 85/200\n",
      "1257/1257 [==============================] - 0s - loss: 2.9665e-04     \n",
      "Epoch 86/200\n",
      "1257/1257 [==============================] - 0s - loss: 2.8843e-04     \n",
      "Epoch 87/200\n",
      "1257/1257 [==============================] - 0s - loss: 2.8120e-04     \n",
      "Epoch 88/200\n",
      "1257/1257 [==============================] - 0s - loss: 2.7598e-04     \n",
      "Epoch 89/200\n",
      "1257/1257 [==============================] - 0s - loss: 2.7230e-04     \n",
      "Epoch 90/200\n",
      "1257/1257 [==============================] - 0s - loss: 2.6972e-04     \n",
      "Epoch 91/200\n",
      "1257/1257 [==============================] - 0s - loss: 2.6703e-04     \n",
      "Epoch 92/200\n",
      "1257/1257 [==============================] - 0s - loss: 2.6527e-04     \n",
      "Epoch 93/200\n",
      "1257/1257 [==============================] - 0s - loss: 2.6435e-04     \n",
      "Epoch 94/200\n",
      "1257/1257 [==============================] - 0s - loss: 2.6273e-04     \n",
      "Epoch 95/200\n",
      "1257/1257 [==============================] - 0s - loss: 2.6212e-04     \n",
      "Epoch 96/200\n",
      "1257/1257 [==============================] - 0s - loss: 2.6145e-04     \n",
      "Epoch 97/200\n",
      "1257/1257 [==============================] - 0s - loss: 2.6120e-04     \n",
      "Epoch 98/200\n",
      "1257/1257 [==============================] - 0s - loss: 2.6059e-04     \n",
      "Epoch 99/200\n",
      "1257/1257 [==============================] - 0s - loss: 2.6016e-04     \n",
      "Epoch 100/200\n"
     ]
    },
    {
     "name": "stdout",
     "output_type": "stream",
     "text": [
      "1257/1257 [==============================] - 0s - loss: 2.5975e-04     \n",
      "Epoch 101/200\n",
      "1257/1257 [==============================] - ETA: 0s - loss: 2.6180e-0 - 0s - loss: 2.5995e-04     \n",
      "Epoch 102/200\n",
      "1257/1257 [==============================] - 0s - loss: 2.5949e-04     \n",
      "Epoch 103/200\n",
      "1257/1257 [==============================] - 0s - loss: 2.6105e-04     \n",
      "Epoch 104/200\n",
      "1257/1257 [==============================] - 0s - loss: 2.5975e-04     \n",
      "Epoch 105/200\n",
      "1257/1257 [==============================] - 0s - loss: 2.5905e-04     \n",
      "Epoch 106/200\n",
      "1257/1257 [==============================] - 0s - loss: 2.5859e-04     \n",
      "Epoch 107/200\n",
      "1257/1257 [==============================] - 0s - loss: 2.5868e-04     \n",
      "Epoch 108/200\n",
      "1257/1257 [==============================] - 0s - loss: 2.5782e-04     \n",
      "Epoch 109/200\n",
      "1257/1257 [==============================] - 0s - loss: 2.5799e-04     \n",
      "Epoch 110/200\n",
      "1257/1257 [==============================] - 0s - loss: 2.5837e-04     \n",
      "Epoch 111/200\n",
      "1257/1257 [==============================] - 0s - loss: 2.5750e-04     \n",
      "Epoch 112/200\n",
      "1257/1257 [==============================] - 0s - loss: 2.5732e-04     \n",
      "Epoch 113/200\n",
      "1257/1257 [==============================] - 0s - loss: 2.5705e-04     \n",
      "Epoch 114/200\n",
      "1257/1257 [==============================] - 0s - loss: 2.5836e-04     \n",
      "Epoch 115/200\n",
      "1257/1257 [==============================] - 0s - loss: 2.5600e-04     \n",
      "Epoch 116/200\n",
      "1257/1257 [==============================] - 0s - loss: 2.5758e-04     \n",
      "Epoch 117/200\n",
      "1257/1257 [==============================] - 0s - loss: 2.5565e-04     \n",
      "Epoch 118/200\n",
      "1257/1257 [==============================] - 0s - loss: 2.5672e-04     \n",
      "Epoch 119/200\n",
      "1257/1257 [==============================] - 0s - loss: 2.5587e-04     \n",
      "Epoch 120/200\n",
      "1257/1257 [==============================] - 0s - loss: 2.5622e-04     \n",
      "Epoch 121/200\n",
      "1257/1257 [==============================] - 0s - loss: 2.5555e-04     \n",
      "Epoch 122/200\n",
      "1257/1257 [==============================] - 0s - loss: 2.5448e-04     \n",
      "Epoch 123/200\n",
      "1257/1257 [==============================] - 0s - loss: 2.5475e-04     \n",
      "Epoch 124/200\n",
      "1257/1257 [==============================] - 0s - loss: 2.5504e-04     \n",
      "Epoch 125/200\n",
      "1257/1257 [==============================] - 0s - loss: 2.5362e-04     \n",
      "Epoch 126/200\n",
      "1257/1257 [==============================] - 0s - loss: 2.5336e-04     \n",
      "Epoch 127/200\n",
      "1257/1257 [==============================] - 0s - loss: 2.5333e-04     \n",
      "Epoch 128/200\n",
      "1257/1257 [==============================] - 0s - loss: 2.5302e-04     \n",
      "Epoch 129/200\n",
      "1257/1257 [==============================] - 0s - loss: 2.5267e-04     \n",
      "Epoch 130/200\n",
      "1257/1257 [==============================] - 0s - loss: 2.5319e-04     \n",
      "Epoch 131/200\n",
      "1257/1257 [==============================] - 0s - loss: 2.5259e-04     \n",
      "Epoch 132/200\n",
      "1257/1257 [==============================] - 0s - loss: 2.5220e-04     \n",
      "Epoch 133/200\n",
      "1257/1257 [==============================] - 0s - loss: 2.5223e-04     \n",
      "Epoch 134/200\n",
      "1257/1257 [==============================] - 0s - loss: 2.5226e-04     \n",
      "Epoch 135/200\n",
      "1257/1257 [==============================] - 0s - loss: 2.5215e-04     \n",
      "Epoch 136/200\n",
      "1257/1257 [==============================] - 0s - loss: 2.5349e-04     \n",
      "Epoch 137/200\n",
      "1257/1257 [==============================] - 0s - loss: 2.5188e-04     \n",
      "Epoch 138/200\n",
      "1257/1257 [==============================] - 0s - loss: 2.5201e-04     \n",
      "Epoch 139/200\n",
      "1257/1257 [==============================] - 0s - loss: 2.5111e-04     \n",
      "Epoch 140/200\n",
      "1257/1257 [==============================] - 0s - loss: 2.5193e-04     \n",
      "Epoch 141/200\n",
      "1257/1257 [==============================] - 0s - loss: 2.5175e-04     \n",
      "Epoch 142/200\n",
      "1257/1257 [==============================] - 0s - loss: 2.5219e-04     \n",
      "Epoch 143/200\n",
      "1257/1257 [==============================] - 0s - loss: 2.5159e-04     \n",
      "Epoch 144/200\n",
      "1257/1257 [==============================] - 0s - loss: 2.5209e-04     \n",
      "Epoch 145/200\n",
      "1257/1257 [==============================] - 0s - loss: 2.4957e-04     \n",
      "Epoch 146/200\n",
      "1257/1257 [==============================] - 0s - loss: 2.5531e-04     \n",
      "Epoch 147/200\n",
      "1257/1257 [==============================] - 0s - loss: 2.5076e-04     \n",
      "Epoch 148/200\n",
      "1257/1257 [==============================] - 0s - loss: 2.5181e-04     \n",
      "Epoch 149/200\n",
      "1257/1257 [==============================] - 0s - loss: 2.5014e-04     \n",
      "Epoch 150/200\n",
      "1257/1257 [==============================] - 0s - loss: 2.5269e-04     \n",
      "Epoch 151/200\n",
      "1257/1257 [==============================] - 0s - loss: 2.5065e-04     \n",
      "Epoch 152/200\n",
      "1257/1257 [==============================] - 0s - loss: 2.5068e-04     \n",
      "Epoch 153/200\n",
      "1257/1257 [==============================] - 0s - loss: 2.5072e-04     \n",
      "Epoch 154/200\n",
      "1257/1257 [==============================] - 0s - loss: 2.5029e-04     \n",
      "Epoch 155/200\n",
      "1257/1257 [==============================] - 0s - loss: 2.5141e-04     \n",
      "Epoch 156/200\n",
      "1257/1257 [==============================] - 0s - loss: 2.5121e-04     \n",
      "Epoch 157/200\n",
      "1257/1257 [==============================] - 0s - loss: 2.5000e-04     \n",
      "Epoch 158/200\n",
      "1257/1257 [==============================] - 0s - loss: 2.4967e-04     \n",
      "Epoch 159/200\n",
      "1257/1257 [==============================] - 0s - loss: 2.4939e-04     \n",
      "Epoch 160/200\n",
      "1257/1257 [==============================] - 0s - loss: 2.5183e-04     \n",
      "Epoch 161/200\n",
      "1257/1257 [==============================] - 0s - loss: 2.4982e-04     \n",
      "Epoch 162/200\n",
      "1257/1257 [==============================] - 0s - loss: 2.5099e-04     \n",
      "Epoch 163/200\n",
      "1257/1257 [==============================] - 0s - loss: 2.5158e-04     \n",
      "Epoch 164/200\n",
      "1257/1257 [==============================] - 0s - loss: 2.4986e-04     \n",
      "Epoch 165/200\n",
      "1257/1257 [==============================] - 0s - loss: 2.5160e-04     \n",
      "Epoch 166/200\n",
      "1257/1257 [==============================] - 0s - loss: 2.4910e-04     \n",
      "Epoch 167/200\n",
      "1257/1257 [==============================] - 0s - loss: 2.5208e-04     \n",
      "Epoch 168/200\n",
      "1257/1257 [==============================] - 0s - loss: 2.4910e-04     \n",
      "Epoch 169/200\n",
      "1257/1257 [==============================] - 0s - loss: 2.5181e-04     \n",
      "Epoch 170/200\n",
      "1257/1257 [==============================] - 0s - loss: 2.5163e-04     \n",
      "Epoch 171/200\n",
      "1257/1257 [==============================] - 0s - loss: 2.5003e-04     \n",
      "Epoch 172/200\n",
      "1257/1257 [==============================] - 0s - loss: 2.5046e-04     \n",
      "Epoch 173/200\n",
      "1257/1257 [==============================] - 0s - loss: 2.4955e-04     \n",
      "Epoch 174/200\n",
      "1257/1257 [==============================] - 0s - loss: 2.5197e-04     \n",
      "Epoch 175/200\n",
      "1257/1257 [==============================] - 0s - loss: 2.4981e-04     \n",
      "Epoch 176/200\n",
      "1257/1257 [==============================] - 0s - loss: 2.5395e-04     \n",
      "Epoch 177/200\n",
      "1257/1257 [==============================] - 0s - loss: 2.5033e-04     \n",
      "Epoch 178/200\n",
      "1257/1257 [==============================] - 0s - loss: 2.5298e-04     \n",
      "Epoch 179/200\n",
      "1257/1257 [==============================] - 0s - loss: 2.5169e-04     \n",
      "Epoch 180/200\n",
      "1257/1257 [==============================] - 0s - loss: 2.4931e-04     \n",
      "Epoch 181/200\n",
      "1257/1257 [==============================] - 0s - loss: 2.4845e-04     \n",
      "Epoch 182/200\n",
      "1257/1257 [==============================] - 0s - loss: 2.5084e-04     \n",
      "Epoch 183/200\n",
      "1257/1257 [==============================] - 0s - loss: 2.4941e-04     \n",
      "Epoch 184/200\n",
      "1257/1257 [==============================] - 0s - loss: 2.5287e-04     \n",
      "Epoch 185/200\n",
      "1257/1257 [==============================] - 0s - loss: 2.5052e-04     \n",
      "Epoch 186/200\n",
      "1257/1257 [==============================] - 0s - loss: 2.5141e-04     \n",
      "Epoch 187/200\n",
      "1257/1257 [==============================] - 0s - loss: 2.5383e-04     \n",
      "Epoch 188/200\n",
      "1257/1257 [==============================] - 0s - loss: 2.5159e-04     \n",
      "Epoch 189/200\n",
      "1257/1257 [==============================] - 0s - loss: 2.4980e-04     \n",
      "Epoch 190/200\n",
      "1257/1257 [==============================] - 0s - loss: 2.5232e-04     \n",
      "Epoch 191/200\n",
      "1257/1257 [==============================] - 0s - loss: 2.4892e-04     \n",
      "Epoch 192/200\n",
      "1257/1257 [==============================] - 0s - loss: 2.5022e-04     \n",
      "Epoch 193/200\n",
      "1257/1257 [==============================] - 0s - loss: 2.5360e-04     \n",
      "Epoch 194/200\n",
      "1257/1257 [==============================] - 0s - loss: 2.4993e-04     \n",
      "Epoch 195/200\n"
     ]
    },
    {
     "name": "stdout",
     "output_type": "stream",
     "text": [
      "1257/1257 [==============================] - 0s - loss: 2.5127e-04     \n",
      "Epoch 196/200\n",
      "1257/1257 [==============================] - 0s - loss: 2.4991e-04     \n",
      "Epoch 197/200\n",
      "1257/1257 [==============================] - 0s - loss: 2.4969e-04     \n",
      "Epoch 198/200\n",
      "1257/1257 [==============================] - 0s - loss: 2.5084e-04     \n",
      "Epoch 199/200\n",
      "1257/1257 [==============================] - 0s - loss: 2.4849e-04     \n",
      "Epoch 200/200\n",
      "1257/1257 [==============================] - 0s - loss: 2.5162e-04     \n"
     ]
    },
    {
     "data": {
      "text/plain": [
       "<keras.callbacks.History at 0xe9569b0>"
      ]
     },
     "execution_count": 23,
     "metadata": {},
     "output_type": "execute_result"
    }
   ],
   "source": [
    "regressor.fit(X_train, y_train, batch_size = 32, epochs = 200)"
   ]
  },
  {
   "cell_type": "markdown",
   "metadata": {},
   "source": [
    "<b> Predictions </b>\n",
    "\n",
    "Now we are goinng to predict the stock price and compare with what we have in our test set."
   ]
  },
  {
   "cell_type": "code",
   "execution_count": 24,
   "metadata": {},
   "outputs": [
    {
     "name": "stdout",
     "output_type": "stream",
     "text": [
      "(20, 1)\n"
     ]
    }
   ],
   "source": [
    "# Getting the real stock price of 2017\n",
    "test_set = pd.read_csv('Google_Stock_Price_Test.csv')\n",
    "real_stock_price = test_set.iloc[:,1:2].values\n",
    "print(real_stock_price.shape)"
   ]
  },
  {
   "cell_type": "code",
   "execution_count": 26,
   "metadata": {
    "collapsed": true
   },
   "outputs": [],
   "source": [
    "#transform the test data to the scale similar to the train data\n",
    "inputs = real_stock_price\n",
    "inputs = sc.transform(inputs)\n",
    "#reshape as we did in the train data, we have 20 observations, 1 feature and for 1 time\n",
    "inputs = np.reshape(inputs, (20, 1, 1))\n",
    "# Getting the predicted stock price of 2017\n",
    "predicted_stock_price = regressor.predict(inputs)"
   ]
  },
  {
   "cell_type": "markdown",
   "metadata": {},
   "source": [
    "<b> Inverse transforming the prediction </b>\n",
    "\n",
    "The predicted value is in normalized form, so we do inverse transform to get the real stock value the model predicted."
   ]
  },
  {
   "cell_type": "code",
   "execution_count": 27,
   "metadata": {
    "collapsed": true
   },
   "outputs": [],
   "source": [
    "#now get the real value, as the predicted _stock_price will have the normalized values\n",
    "predicted_stock_price = sc.inverse_transform(predicted_stock_price)"
   ]
  },
  {
   "cell_type": "code",
   "execution_count": 28,
   "metadata": {},
   "outputs": [
    {
     "name": "stdout",
     "output_type": "stream",
     "text": [
      "[[ 778.75036621]\n",
      " [ 787.92138672]\n",
      " [ 785.73297119]\n",
      " [ 794.54022217]\n",
      " [ 805.21337891]\n",
      " [ 806.61102295]\n",
      " [ 803.87304688]\n",
      " [ 805.92181396]\n",
      " [ 806.24731445]\n",
      " [ 805.86444092]\n",
      " [ 804.64855957]\n",
      " [ 803.98779297]\n",
      " [ 805.70166016]\n",
      " [ 806.02716064]\n",
      " [ 820.41931152]\n",
      " [ 827.40875244]\n",
      " [ 835.22076416]\n",
      " [ 832.26483154]\n",
      " [ 813.11688232]\n",
      " [ 796.07421875]]\n"
     ]
    }
   ],
   "source": [
    "#lets see the predicted prices\n",
    "print(predicted_stock_price)"
   ]
  },
  {
   "cell_type": "markdown",
   "metadata": {},
   "source": [
    "<b> Visualization of predicted result </b>\n",
    "\n",
    "We are going to visualize the predicted result and see the difference between the actual stock price and the predicted stock price."
   ]
  },
  {
   "cell_type": "code",
   "execution_count": 31,
   "metadata": {},
   "outputs": [
    {
     "data": {
      "image/png": "[encoded data removed]",
      "text/plain": [
       "<matplotlib.figure.Figure at 0xd030780>"
      ]
     },
     "metadata": {},
     "output_type": "display_data"
    }
   ],
   "source": [
    "# Visualising the results\n",
    "plt.plot(real_stock_price, color = 'red', label = 'Real Google Stock Price')\n",
    "plt.plot(predicted_stock_price, color = 'blue', label = 'Predicted Google Stock Price')\n",
    "plt.title('Google Stock Price Prediction')\n",
    "plt.xlabel('Time')\n",
    "plt.ylabel('Google Stock Price')\n",
    "plt.legend()\n",
    "plt.show()"
   ]
  },
  {
   "cell_type": "markdown",
   "metadata": {},
   "source": [
    "To summarize, the model took the price of one day and predicted the price of next day.\n",
    "It then took the real price of another day and then predicted the price of the\n",
    "following day. This process was repeated.\n",
    "The prediction was made for a single time period and the model may not give\n",
    "good result if we want to predict the stock price for the whole month, given\n",
    "the stock price for the first day of the month."
   ]
  },
  {
   "cell_type": "markdown",
   "metadata": {},
   "source": [
    "<b> Summary </b>\n",
    "\n",
    "<ul>\n",
    " <li> The reason our predictions are very similar to the inputs is because the network is only learning that the \n",
    "prediction(t) = k * input(t-1), with k a small constant. Therefore it is not relevant.\n",
    "\n",
    "<li> The whole reason why it is not relevant is in the timestep. With our timestep = 1, we train the network by inputing x(t) and learning x(t+1). So what happens is that the states of the hidden layer are reset, after which we input x(t+1) and learn x(t+2), and so on. Hence, since the states are reset after each time t, the network is not learning anything useful, because it is only taking into account the value we are inputting.\n",
    "\n",
    "<li> Therefore, to fix this and improve our model, we need to increase the timestep. And that's exactly what we'll do in the next section: Evaluating, Improving and Tuning the RNN.\n",
    "\n",
    "<li> Extra clarification: the article displayed in the lectures is indeed from Stanford, but it is created by undergraduate students of the CS229 course. The students of that course submitted a final project for evaluation; it was just put online but it is not published anywhere. There is a big difference between reading a Stanford paper published online and reading an assignment written by a group of undergrads.\n",
    "</ul>"
   ]
  },
  {
   "cell_type": "markdown",
   "metadata": {},
   "source": [
    "<b> Next Steps </b>\n",
    "<ol> \n",
    "<li> First, a little Homework just to practice what we have just seen. Only the choice of timestep = 1 is not relevant, the rest is correct so you can already practice with the code to do this first Homework.\n",
    "\n",
    "<li> Then, you will learn how to evaluate a RNN model, and more generally, a Regression model (a model that predicts a continuous outcome).\n",
    "\n",
    "<li> And eventually the most important and final step: we will improve our RNN model, correcting this one timestep defect, by adding more timesteps. We will also consider improving the model by adding more LSTM layers. You will first try to do this final step on your own, this will be the big Homework Challenge of this Part. Good luck with this one."
   ]
  },
  {
   "cell_type": "code",
   "execution_count": null,
   "metadata": {
    "collapsed": true
   },
   "outputs": [],
   "source": []
  }
 ],
 "metadata": {
  "kernelspec": {
   "display_name": "Python 3",
   "language": "python",
   "name": "python3"
  },
  "language_info": {
   "codemirror_mode": {
    "name": "ipython",
    "version": 3
   },
   "file_extension": ".py",
   "mimetype": "text/x-python",
   "name": "python",
   "nbconvert_exporter": "python",
   "pygments_lexer": "ipython3",
   "version": "3.5.3"
  }
 },
 "nbformat": 4,
 "nbformat_minor": 2
}
